{
 "cells": [
  {
   "cell_type": "markdown",
   "metadata": {},
   "source": [
    "# Solar Energy Improvement"
   ]
  },
  {
   "cell_type": "markdown",
   "metadata": {},
   "source": [
    "***Example of experimentation for improvement***"
   ]
  },
  {
   "cell_type": "markdown",
   "metadata": {},
   "source": [
    "The objective is to maximize the **collection efficiency** and the **energy delivered efficiency**.\n",
    "Outcomes:\n",
    "\n",
    "    y1 - collection efficiency\n",
    "    y2 - energy delivery efficiency\n",
    "\n",
    "And the factors (variables) considered relevant to the study are:\n",
    "\n",
    "    A - total daily insolation (sunlight received)\n",
    "    B - storage tank capacity\n",
    "    C - water flow rate\n",
    "    D - solar intermittency"
   ]
  },
  {
   "cell_type": "markdown",
   "metadata": {},
   "source": [
    "There are 2 values (1 and -1) for each of the 4 variables. So 2^4 = 16 experiments. (It may be reduced sacrificing some accuracy...) "
   ]
  },
  {
   "cell_type": "markdown",
   "metadata": {},
   "source": [
    "The original data is here: yint.org/solar-panel-study"
   ]
  },
  {
   "cell_type": "code",
   "execution_count": null,
   "metadata": {
    "collapsed": true
   },
   "outputs": [],
   "source": [
    "A <- c(-1, 1, -1, 1, -1, 1, -1, 1, -1, 1, -1, 1, -1, 1, -1, 1)\n",
    "B <- c(-1, -1, 1, 1, -1, -1, 1, 1, -1, -1, 1, 1, -1, -1, 1, 1)\n",
    "C <- c(-1, -1, -1, -1, 1, 1, 1, 1, -1, -1, -1, -1, 1, 1, 1, 1)\n",
    "D <- c(-1, -1, -1, -1, -1, -1, -1, -1, 1, 1, 1, 1, 1, 1, 1, 1)\n",
    "\n",
    "y1 <- c(43.5, 51.3, 35, 38.4, 44.9, 52.4, 39.7, 41.3, 50.2, 50.2, 37.5, 39.2, 43, 51.9, 39.9, 41.6)\n",
    "y2 <- c(82, 83.7, 61.7, 100, 82.1, 84.1, 67.7, 100, 82, 86.3, 66, 100, 82.2, 89.8, 68.8, 100) "
   ]
  },
  {
   "cell_type": "markdown",
   "metadata": {},
   "source": [
    "The values ***-1*** stands for the lower tested value and ***1*** stands for the higher value tested. (Other values may also be used...)\n",
    "In different cases ***-1*** and ***1*** may also be used for qualities (ex: -1 for red; 1 for green, -1 for running without jacket, 1 for running with jacket...)\n",
    "These are normalized/coded values, which can be converted to the real values/qualities."
   ]
  },
  {
   "cell_type": "code",
   "execution_count": null,
   "metadata": {
    "collapsed": true
   },
   "outputs": [],
   "source": [
    "collection_efficiency <-  lm(y1 ~ A*B*C*D) \n",
    "summary(collection_efficiency)"
   ]
  },
  {
   "cell_type": "markdown",
   "metadata": {},
   "source": [
    "And the summary given is:"
   ]
  },
  {
   "cell_type": "code",
   "execution_count": null,
   "metadata": {
    "collapsed": true
   },
   "outputs": [],
   "source": [
    "Call:\n",
    "lm(formula = y1 ~ A * B * C * D)\n",
    "\n",
    "Residuals:\n",
    "ALL 16 residuals are 0: no residual degrees of freedom!\n",
    "\n",
    "Coefficients:\n",
    "            Estimate Std. Error t value Pr(>|t|)\n",
    "(Intercept)  43.7500         NA      NA       NA\n",
    "A             2.0375         NA      NA       NA\n",
    "B            -4.6750         NA      NA       NA\n",
    "C             0.5875         NA      NA       NA\n",
    "D             0.4375         NA      NA       NA\n",
    "A:B          -0.9875         NA      NA       NA\n",
    "A:C           0.4250         NA      NA       NA\n",
    "B:C           0.9625         NA      NA       NA\n",
    "A:D          -0.5000         NA      NA       NA\n",
    "B:D           0.0375         NA      NA       NA\n",
    "C:D          -0.6750         NA      NA       NA\n",
    "A:B:C        -0.6500         NA      NA       NA\n",
    "A:B:D         0.3000         NA      NA       NA\n",
    "A:C:D         0.6875         NA      NA       NA\n",
    "B:C:D         0.3250         NA      NA       NA\n",
    "A:B:C:D      -0.4625         NA      NA       NA\n",
    "\n",
    "Residual standard error: NaN on 0 degrees of freedom\n",
    "Multiple R-squared:      1,\tAdjusted R-squared:    NaN \n",
    "F-statistic:   NaN on 15 and 0 DF,  p-value: NA\n"
   ]
  },
  {
   "cell_type": "markdown",
   "metadata": {},
   "source": [
    "Which gives a model y1 = 43.75 + 2.04A - 4.6B +... (Look at the first and second columns.)\n",
    "\n",
    "From here, different outcomes can be predicted for different factors (A, B...).\n",
    "\n",
    "It means that factors A and B are the most important. Solar intermitency (D) is not important, as well as the interactions between factors are not important. "
   ]
  },
  {
   "cell_type": "code",
   "execution_count": null,
   "metadata": {
    "collapsed": true
   },
   "outputs": [],
   "source": [
    "energy_delivery_efficiency <- lm(y2 ~ A*B*C*D) \n",
    "summary(energy_delivery_efficiency)"
   ]
  },
  {
   "cell_type": "markdown",
   "metadata": {},
   "source": [
    "And the summary given is:"
   ]
  },
  {
   "cell_type": "code",
   "execution_count": null,
   "metadata": {
    "collapsed": true
   },
   "outputs": [],
   "source": [
    "Call:\n",
    "lm(formula = y2 ~ A * B * C * D)\n",
    "\n",
    "Residuals:\n",
    "ALL 16 residuals are 0: no residual degrees of freedom!\n",
    "\n",
    "Coefficients:\n",
    "              Estimate Std. Error t value Pr(>|t|)\n",
    "(Intercept)  8.353e+01         NA      NA       NA\n",
    "A            9.462e+00         NA      NA       NA\n",
    "B           -5.000e-01         NA      NA       NA\n",
    "C            8.125e-01         NA      NA       NA\n",
    "D            8.625e-01         NA      NA       NA\n",
    "A:B          7.513e+00         NA      NA       NA\n",
    "A:C         -3.250e-01         NA      NA       NA\n",
    "B:C          2.875e-01         NA      NA       NA\n",
    "A:D          1.750e-01         NA      NA       NA\n",
    "B:D         -1.875e-01         NA      NA       NA\n",
    "C:D          1.907e-15         NA      NA       NA\n",
    "A:B:C       -7.750e-01         NA      NA       NA\n",
    "A:B:D       -8.500e-01         NA      NA       NA\n",
    "A:C:D        3.875e-01         NA      NA       NA\n",
    "B:C:D       -4.000e-01         NA      NA       NA\n",
    "A:B:C:D      1.250e-02         NA      NA       NA\n",
    "\n",
    "Residual standard error: NaN on 0 degrees of freedom\n",
    "Multiple R-squared:      1,\tAdjusted R-squared:    NaN \n",
    "F-statistic:   NaN on 15 and 0 DF,  p-value: NA"
   ]
  },
  {
   "cell_type": "markdown",
   "metadata": {},
   "source": [
    "Which gives a model y2 = 83.53 + ... + 7.51*AB"
   ]
  },
  {
   "cell_type": "code",
   "execution_count": null,
   "metadata": {
    "collapsed": true
   },
   "outputs": [],
   "source": [
    "library(pid)\n",
    "paretoPlot(collection_efficiency) "
   ]
  },
  {
   "cell_type": "markdown",
   "metadata": {},
   "source": [
    "<img src=\"files/collection_efficiency.png\"> "
   ]
  },
  {
   "cell_type": "code",
   "execution_count": null,
   "metadata": {
    "collapsed": true
   },
   "outputs": [],
   "source": [
    "library(pid)\n",
    "paretoPlot(energy_delivery_efficiency)"
   ]
  },
  {
   "cell_type": "markdown",
   "metadata": {},
   "source": [
    "<img src=\"files/energy_delivery_efficiency.png\">"
   ]
  }
 ],
 "metadata": {
  "anaconda-cloud": {},
  "kernelspec": {
   "display_name": "R",
   "language": "R",
   "name": "ir"
  },
  "language_info": {
   "codemirror_mode": "r",
   "file_extension": ".r",
   "mimetype": "text/x-r-source",
   "name": "R",
   "pygments_lexer": "r",
   "version": "3.3.2"
  }
 },
 "nbformat": 4,
 "nbformat_minor": 2
}
